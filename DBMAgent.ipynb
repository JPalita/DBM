{
 "cells": [
  {
   "cell_type": "markdown",
   "id": "6dfadf39",
   "metadata": {},
   "source": [
    "# Simulated Agent"
   ]
  },
  {
   "cell_type": "code",
   "execution_count": 15,
   "id": "47f67225",
   "metadata": {},
   "outputs": [],
   "source": [
    "import numpy as np\n",
    "from scipy.optimize import minimize\n",
    "from scipy.stats import binom, beta"
   ]
  },
  {
   "cell_type": "code",
   "execution_count": 16,
   "id": "27c86d0d",
   "metadata": {},
   "outputs": [],
   "source": [
    "class Agent:\n",
    "    def __init__(self, a0, b0, q):\n",
    "        self.a0 = a0\n",
    "        self.b0 = b0\n",
    "        self.q = q\n",
    "        self.p = 0.0\n",
    "        self.pickP()\n",
    "        #q = p(x|past)\n",
    "        \n",
    "    def pickP(self):#PICK P  FROM BETA DISTRIBUTION\n",
    "        self.p = np.random.beta(self.a0, self.b0)\n",
    "    # def notPickP(self):\n",
    "    #     self.p = 1 - np.random.beta(self.a0, self.b0)\n",
    "            \n",
    "    def draw(self):\n",
    "        if np.random.uniform(0,1) < self.p:\n",
    "            return True\n",
    "        else:\n",
    "            return False\n",
    "        \n",
    "    def turn(self):\n",
    "        if np.random.uniform(0,1) < self.q:\n",
    "            self.pickP()\n",
    "            \n",
    "        return self.draw()"
   ]
  },
  {
   "cell_type": "code",
   "execution_count": 49,
   "id": "3321b8fd",
   "metadata": {},
   "outputs": [],
   "source": [
    "# np.random.seed(42)\n",
    "ag = Agent(0.1,0.5, 0.1)\n",
    "n = 20\n",
    "outcomes = []\n",
    "prob = []\n",
    "for i in range(n):\n",
    "    outcomes.append(ag.turn())\n"
   ]
  },
  {
   "cell_type": "code",
   "execution_count": 50,
   "id": "ce971893",
   "metadata": {
    "collapsed": false
   },
   "outputs": [
    {
     "data": {
      "text/plain": [
       "[True,\n",
       " True,\n",
       " True,\n",
       " True,\n",
       " False,\n",
       " True,\n",
       " True,\n",
       " False,\n",
       " True,\n",
       " True,\n",
       " False,\n",
       " False,\n",
       " False,\n",
       " False,\n",
       " False,\n",
       " False,\n",
       " False,\n",
       " False,\n",
       " False,\n",
       " False]"
      ]
     },
     "execution_count": 50,
     "metadata": {},
     "output_type": "execute_result"
    }
   ],
   "source": [
    "outcomes"
   ]
  },
  {
   "cell_type": "code",
   "execution_count": 77,
   "id": "7b3fe342",
   "metadata": {},
   "outputs": [],
   "source": [
    "class DBMAgent:\n",
    "    def __init__(self, a0, b0, gamma):\n",
    "        self.a0 = a0\n",
    "        self.b0 = b0\n",
    "        self.gamma = gamma\n",
    "        self.p = 0.0\n",
    "        # self.outcomes = outcomes\n",
    "        self.num = len(outcomes)\n",
    "        self.tb = np.zeros((self.num + 1, self.num + 1))\n",
    "        self.tb[0, 0] = 1\n",
    "        \n",
    "\n",
    "    # def mu(self, n, m):\n",
    "    #     self.a0 = self.a0 + n\n",
    "    #     self.b0 = self.b0 + m\n",
    "    #     return self.a0 / (self.a0 + self.b0)\n",
    "        \n",
    "\n",
    "    def update(self, outcomes):\n",
    "        # print(outcomes, '\\n',self.tb)\n",
    "        for o in outcomes:\n",
    "           \n",
    "            tb_new = self.tb.copy()\n",
    "            \n",
    "            for n in range(self.tb.shape[0]):\n",
    "                for m in range(self.tb.shape[1]):\n",
    "                    if n==0 and m==0:\n",
    "                        self.tb[n, m] = self.tb[0,0] + self.gamma\n",
    "                    else:\n",
    "                        self.tb[n, m] = self.tb[n,m] * (1.0 - self.gamma)\n",
    "                    # print(self.tb[0])\n",
    "\n",
    "            for n in range(self.tb.shape[0]):\n",
    "                for m in range(self.tb.shape[1]):\n",
    "                    #updating each lever\n",
    "                    if o: \n",
    "                        # if n > 0:\n",
    "                        #     tb_new[n, m] = self.tb[n-1, m] * beta.mean(self.a0 + n, self.b0 + (m-1))\n",
    "                        if m > 0:\n",
    "                            tb_new[n, m] = self.tb[n, m-1] * beta.mean(self.a0 + n, self.b0 + (m-1))\n",
    "                        else:\n",
    "                            tb_new[n, m] = 0.0\n",
    "                    else:\n",
    "                        # if m > 0:\n",
    "                        #     tb_new[n, m] = self.tb[n, m-1] * self.beta.mean(self.a0 + n, self.b0 +  m)\n",
    "                        if n > 0:\n",
    "                            tb_new[n, m] = self.tb[n-1, m] * (1- beta.mean(self.a0 + (n-1), self.b0 + m) )\n",
    "                        else:\n",
    "                            tb_new[n, m] = 0.0\n",
    "            # for n in range(self.tb.shape[0]):\n",
    "            #     for m in range(self.tb.shape[1]):\n",
    "            #         if n==0 and m==0:\n",
    "            #             self.tb[n, m] = self.tb[0,0] + self.gamma\n",
    "            #         else:\n",
    "            #             self.tb[n, m] = self.tb[n,m] * (1.0 - self.gamma)\n",
    "                    # print(self.tb)\n",
    "            \n",
    "            z = 0.0\n",
    "            for n in range(self.tb.shape[0]):\n",
    "                for m in range(self.tb.shape[1]):\n",
    "                    z += tb_new[n, m] \n",
    "                    \n",
    "            for n in range(self.tb.shape[0]):\n",
    "                for m in range(self.tb.shape[1]):\n",
    "                    self.tb[n, m] = tb_new[n, m] / z    \n",
    "                           \n",
    "            # print(o, z,'\\n', self.tb[0])\n",
    "\n",
    "\n",
    "            \n",
    "agent = DBMAgent(0.1, 0.5, 0.2)\n",
    "agent.update(outcomes)\n",
    "\n",
    "\n"
   ]
  },
  {
   "cell_type": "code",
   "execution_count": 90,
   "id": "aa7ae60c",
   "metadata": {},
   "outputs": [
    {
     "data": {
      "text/plain": [
       "array([[0.00000000e+00, 0.00000000e+00, 0.00000000e+00, 0.00000000e+00,\n",
       "        0.00000000e+00, 0.00000000e+00, 0.00000000e+00, 0.00000000e+00,\n",
       "        0.00000000e+00, 0.00000000e+00, 0.00000000e+00, 0.00000000e+00,\n",
       "        0.00000000e+00, 0.00000000e+00, 0.00000000e+00, 0.00000000e+00,\n",
       "        0.00000000e+00, 0.00000000e+00, 0.00000000e+00, 0.00000000e+00,\n",
       "        0.00000000e+00],\n",
       "       [4.54232535e-01, 0.00000000e+00, 0.00000000e+00, 0.00000000e+00,\n",
       "        0.00000000e+00, 0.00000000e+00, 0.00000000e+00, 0.00000000e+00,\n",
       "        0.00000000e+00, 0.00000000e+00, 0.00000000e+00, 0.00000000e+00,\n",
       "        0.00000000e+00, 0.00000000e+00, 0.00000000e+00, 0.00000000e+00,\n",
       "        0.00000000e+00, 0.00000000e+00, 0.00000000e+00, 0.00000000e+00,\n",
       "        0.00000000e+00],\n",
       "       [3.05166291e-01, 0.00000000e+00, 0.00000000e+00, 0.00000000e+00,\n",
       "        0.00000000e+00, 0.00000000e+00, 0.00000000e+00, 0.00000000e+00,\n",
       "        0.00000000e+00, 0.00000000e+00, 0.00000000e+00, 0.00000000e+00,\n",
       "        0.00000000e+00, 0.00000000e+00, 0.00000000e+00, 0.00000000e+00,\n",
       "        0.00000000e+00, 0.00000000e+00, 0.00000000e+00, 0.00000000e+00,\n",
       "        0.00000000e+00],\n",
       "       [1.23780080e-01, 0.00000000e+00, 0.00000000e+00, 0.00000000e+00,\n",
       "        0.00000000e+00, 0.00000000e+00, 0.00000000e+00, 0.00000000e+00,\n",
       "        0.00000000e+00, 0.00000000e+00, 0.00000000e+00, 0.00000000e+00,\n",
       "        0.00000000e+00, 0.00000000e+00, 0.00000000e+00, 0.00000000e+00,\n",
       "        0.00000000e+00, 0.00000000e+00, 0.00000000e+00, 0.00000000e+00,\n",
       "        0.00000000e+00],\n",
       "       [3.53380362e-02, 0.00000000e+00, 0.00000000e+00, 0.00000000e+00,\n",
       "        0.00000000e+00, 0.00000000e+00, 0.00000000e+00, 0.00000000e+00,\n",
       "        0.00000000e+00, 0.00000000e+00, 0.00000000e+00, 0.00000000e+00,\n",
       "        0.00000000e+00, 0.00000000e+00, 0.00000000e+00, 0.00000000e+00,\n",
       "        0.00000000e+00, 0.00000000e+00, 0.00000000e+00, 0.00000000e+00,\n",
       "        0.00000000e+00],\n",
       "       [7.62340928e-03, 0.00000000e+00, 0.00000000e+00, 0.00000000e+00,\n",
       "        0.00000000e+00, 0.00000000e+00, 0.00000000e+00, 0.00000000e+00,\n",
       "        0.00000000e+00, 0.00000000e+00, 0.00000000e+00, 0.00000000e+00,\n",
       "        0.00000000e+00, 0.00000000e+00, 0.00000000e+00, 0.00000000e+00,\n",
       "        0.00000000e+00, 0.00000000e+00, 0.00000000e+00, 0.00000000e+00,\n",
       "        0.00000000e+00],\n",
       "       [1.28663816e-03, 0.00000000e+00, 0.00000000e+00, 0.00000000e+00,\n",
       "        0.00000000e+00, 0.00000000e+00, 0.00000000e+00, 0.00000000e+00,\n",
       "        0.00000000e+00, 0.00000000e+00, 0.00000000e+00, 0.00000000e+00,\n",
       "        0.00000000e+00, 0.00000000e+00, 0.00000000e+00, 0.00000000e+00,\n",
       "        0.00000000e+00, 0.00000000e+00, 0.00000000e+00, 0.00000000e+00,\n",
       "        0.00000000e+00],\n",
       "       [1.71795250e-04, 0.00000000e+00, 0.00000000e+00, 0.00000000e+00,\n",
       "        0.00000000e+00, 0.00000000e+00, 0.00000000e+00, 0.00000000e+00,\n",
       "        0.00000000e+00, 0.00000000e+00, 0.00000000e+00, 0.00000000e+00,\n",
       "        0.00000000e+00, 0.00000000e+00, 0.00000000e+00, 0.00000000e+00,\n",
       "        0.00000000e+00, 0.00000000e+00, 0.00000000e+00, 0.00000000e+00,\n",
       "        0.00000000e+00],\n",
       "       [1.79447357e-05, 0.00000000e+00, 0.00000000e+00, 0.00000000e+00,\n",
       "        0.00000000e+00, 0.00000000e+00, 0.00000000e+00, 0.00000000e+00,\n",
       "        0.00000000e+00, 0.00000000e+00, 0.00000000e+00, 0.00000000e+00,\n",
       "        0.00000000e+00, 0.00000000e+00, 0.00000000e+00, 0.00000000e+00,\n",
       "        0.00000000e+00, 0.00000000e+00, 0.00000000e+00, 0.00000000e+00,\n",
       "        0.00000000e+00],\n",
       "       [1.40930340e-06, 0.00000000e+00, 0.00000000e+00, 0.00000000e+00,\n",
       "        0.00000000e+00, 0.00000000e+00, 0.00000000e+00, 0.00000000e+00,\n",
       "        0.00000000e+00, 0.00000000e+00, 0.00000000e+00, 0.00000000e+00,\n",
       "        0.00000000e+00, 0.00000000e+00, 0.00000000e+00, 0.00000000e+00,\n",
       "        0.00000000e+00, 0.00000000e+00, 0.00000000e+00, 0.00000000e+00,\n",
       "        0.00000000e+00],\n",
       "       [7.75919224e-08, 1.15151399e-04, 3.30196797e-04, 0.00000000e+00,\n",
       "        0.00000000e+00, 0.00000000e+00, 0.00000000e+00, 0.00000000e+00,\n",
       "        0.00000000e+00, 0.00000000e+00, 0.00000000e+00, 0.00000000e+00,\n",
       "        0.00000000e+00, 0.00000000e+00, 0.00000000e+00, 0.00000000e+00,\n",
       "        0.00000000e+00, 0.00000000e+00, 0.00000000e+00, 0.00000000e+00,\n",
       "        0.00000000e+00],\n",
       "       [0.00000000e+00, 0.00000000e+00, 1.61639006e-03, 3.08245953e-03,\n",
       "        9.73326618e-04, 0.00000000e+00, 0.00000000e+00, 0.00000000e+00,\n",
       "        0.00000000e+00, 0.00000000e+00, 0.00000000e+00, 0.00000000e+00,\n",
       "        0.00000000e+00, 0.00000000e+00, 0.00000000e+00, 0.00000000e+00,\n",
       "        0.00000000e+00, 0.00000000e+00, 0.00000000e+00, 0.00000000e+00,\n",
       "        0.00000000e+00],\n",
       "       [0.00000000e+00, 0.00000000e+00, 0.00000000e+00, 0.00000000e+00,\n",
       "        1.18477268e-02, 2.51843240e-02, 1.81599264e-02, 6.70856530e-03,\n",
       "        4.36371704e-03, 0.00000000e+00, 0.00000000e+00, 0.00000000e+00,\n",
       "        0.00000000e+00, 0.00000000e+00, 0.00000000e+00, 0.00000000e+00,\n",
       "        0.00000000e+00, 0.00000000e+00, 0.00000000e+00, 0.00000000e+00,\n",
       "        0.00000000e+00],\n",
       "       [0.00000000e+00, 0.00000000e+00, 0.00000000e+00, 0.00000000e+00,\n",
       "        0.00000000e+00, 0.00000000e+00, 0.00000000e+00, 0.00000000e+00,\n",
       "        0.00000000e+00, 0.00000000e+00, 0.00000000e+00, 0.00000000e+00,\n",
       "        0.00000000e+00, 0.00000000e+00, 0.00000000e+00, 0.00000000e+00,\n",
       "        0.00000000e+00, 0.00000000e+00, 0.00000000e+00, 0.00000000e+00,\n",
       "        0.00000000e+00],\n",
       "       [0.00000000e+00, 0.00000000e+00, 0.00000000e+00, 0.00000000e+00,\n",
       "        0.00000000e+00, 0.00000000e+00, 0.00000000e+00, 0.00000000e+00,\n",
       "        0.00000000e+00, 0.00000000e+00, 0.00000000e+00, 0.00000000e+00,\n",
       "        0.00000000e+00, 0.00000000e+00, 0.00000000e+00, 0.00000000e+00,\n",
       "        0.00000000e+00, 0.00000000e+00, 0.00000000e+00, 0.00000000e+00,\n",
       "        0.00000000e+00],\n",
       "       [0.00000000e+00, 0.00000000e+00, 0.00000000e+00, 0.00000000e+00,\n",
       "        0.00000000e+00, 0.00000000e+00, 0.00000000e+00, 0.00000000e+00,\n",
       "        0.00000000e+00, 0.00000000e+00, 0.00000000e+00, 0.00000000e+00,\n",
       "        0.00000000e+00, 0.00000000e+00, 0.00000000e+00, 0.00000000e+00,\n",
       "        0.00000000e+00, 0.00000000e+00, 0.00000000e+00, 0.00000000e+00,\n",
       "        0.00000000e+00],\n",
       "       [0.00000000e+00, 0.00000000e+00, 0.00000000e+00, 0.00000000e+00,\n",
       "        0.00000000e+00, 0.00000000e+00, 0.00000000e+00, 0.00000000e+00,\n",
       "        0.00000000e+00, 0.00000000e+00, 0.00000000e+00, 0.00000000e+00,\n",
       "        0.00000000e+00, 0.00000000e+00, 0.00000000e+00, 0.00000000e+00,\n",
       "        0.00000000e+00, 0.00000000e+00, 0.00000000e+00, 0.00000000e+00,\n",
       "        0.00000000e+00],\n",
       "       [0.00000000e+00, 0.00000000e+00, 0.00000000e+00, 0.00000000e+00,\n",
       "        0.00000000e+00, 0.00000000e+00, 0.00000000e+00, 0.00000000e+00,\n",
       "        0.00000000e+00, 0.00000000e+00, 0.00000000e+00, 0.00000000e+00,\n",
       "        0.00000000e+00, 0.00000000e+00, 0.00000000e+00, 0.00000000e+00,\n",
       "        0.00000000e+00, 0.00000000e+00, 0.00000000e+00, 0.00000000e+00,\n",
       "        0.00000000e+00],\n",
       "       [0.00000000e+00, 0.00000000e+00, 0.00000000e+00, 0.00000000e+00,\n",
       "        0.00000000e+00, 0.00000000e+00, 0.00000000e+00, 0.00000000e+00,\n",
       "        0.00000000e+00, 0.00000000e+00, 0.00000000e+00, 0.00000000e+00,\n",
       "        0.00000000e+00, 0.00000000e+00, 0.00000000e+00, 0.00000000e+00,\n",
       "        0.00000000e+00, 0.00000000e+00, 0.00000000e+00, 0.00000000e+00,\n",
       "        0.00000000e+00],\n",
       "       [0.00000000e+00, 0.00000000e+00, 0.00000000e+00, 0.00000000e+00,\n",
       "        0.00000000e+00, 0.00000000e+00, 0.00000000e+00, 0.00000000e+00,\n",
       "        0.00000000e+00, 0.00000000e+00, 0.00000000e+00, 0.00000000e+00,\n",
       "        0.00000000e+00, 0.00000000e+00, 0.00000000e+00, 0.00000000e+00,\n",
       "        0.00000000e+00, 0.00000000e+00, 0.00000000e+00, 0.00000000e+00,\n",
       "        0.00000000e+00],\n",
       "       [0.00000000e+00, 0.00000000e+00, 0.00000000e+00, 0.00000000e+00,\n",
       "        0.00000000e+00, 0.00000000e+00, 0.00000000e+00, 0.00000000e+00,\n",
       "        0.00000000e+00, 0.00000000e+00, 0.00000000e+00, 0.00000000e+00,\n",
       "        0.00000000e+00, 0.00000000e+00, 0.00000000e+00, 0.00000000e+00,\n",
       "        0.00000000e+00, 0.00000000e+00, 0.00000000e+00, 0.00000000e+00,\n",
       "        0.00000000e+00]])"
      ]
     },
     "execution_count": 90,
     "metadata": {},
     "output_type": "execute_result"
    }
   ],
   "source": [
    "agent.tb"
   ]
  },
  {
   "cell_type": "code",
   "execution_count": null,
   "id": "86d20bc9",
   "metadata": {},
   "outputs": [],
   "source": []
  },
  {
   "cell_type": "code",
   "execution_count": 78,
   "id": "6bcc4cf6",
   "metadata": {},
   "outputs": [],
   "source": [
    "class logL:\n",
    "    def __init__(self, data):\n",
    "        self.data = data\n",
    "    def __call__(self, params): # matrix of params\n",
    "        a0,b0,gm = params \n",
    "        mdl = DBMAgent(a0,b0,gm)\n",
    "        mdl.update(self.data)\n",
    "        likelihood = 0.0\n",
    "        # likelihood = gm * beta.pdf(self.data, a0, b0) + (1 - gm) * beta.pdf(self.data, a0, b0)\n",
    "        # loglikelihood = -1 * np.sum(np.log(likelihood))\n",
    "        for i in range(len(self.data)):\n",
    "            for n in range(mdl.tb.shape[0]):\n",
    "                for m in range(mdl.tb.shape[1]):\n",
    "                    reward = self.data[i]\n",
    "                    # prob = beta.mean(model.alpha, model.beta)\n",
    "                    likelihood += (gm * mdl.tb[n,m] + (1 - gm) * (1 if n==0 and m==0 else 0))\n",
    "                    log_likelihood = np.log(likelihood)\n",
    "                    # model.update(reward)\n",
    "        \n",
    "        return -log_likelihood\n",
    "    "
   ]
  },
  {
   "cell_type": "code",
   "execution_count": 79,
   "id": "42f7d9ff",
   "metadata": {},
   "outputs": [
    {
     "data": {
      "text/plain": [
       "-2.9957322735539917"
      ]
     },
     "execution_count": 79,
     "metadata": {},
     "output_type": "execute_result"
    }
   ],
   "source": [
    "logl = logL(outcomes)\n",
    "p = np.array([0.1,0.5,0.2])\n",
    "logl(p)\n"
   ]
  },
  {
   "cell_type": "code",
   "execution_count": 80,
   "id": "5ede7528",
   "metadata": {},
   "outputs": [],
   "source": [
    "optimised_result = minimize(logl,p, method='Nelder-Mead')\n",
    "alpha_mle, beta_mle, gamma_mle = optimised_result.x"
   ]
  },
  {
   "cell_type": "code",
   "execution_count": 81,
   "id": "94035bfb",
   "metadata": {},
   "outputs": [
    {
     "name": "stdout",
     "output_type": "stream",
     "text": [
      "optimised alpha: 0.09750000000000002\n",
      "optimised beta: 0.5125\n",
      "optimised gamma: 0.20500000000000004\n"
     ]
    }
   ],
   "source": [
    "print(f'optimised alpha: {alpha_mle}\\noptimised beta: {beta_mle}\\noptimised gamma: {gamma_mle}')"
   ]
  },
  {
   "cell_type": "code",
   "execution_count": 82,
   "id": "32c1ad53",
   "metadata": {
    "pycharm": {
     "is_executing": true
    }
   },
   "outputs": [
    {
     "data": {
      "text/plain": [
       "       message: Optimization terminated successfully.\n",
       "       success: True\n",
       "        status: 0\n",
       "           fun: -2.995732273553993\n",
       "             x: [ 9.750e-02  5.125e-01  2.050e-01]\n",
       "           nit: 18\n",
       "          nfev: 54\n",
       " final_simplex: (array([[ 9.750e-02,  5.125e-01,  2.050e-01],\n",
       "                       [ 9.750e-02,  5.126e-01,  2.050e-01],\n",
       "                       [ 9.750e-02,  5.125e-01,  2.050e-01],\n",
       "                       [ 9.749e-02,  5.125e-01,  2.050e-01]]), array([-2.996e+00, -2.996e+00, -2.996e+00, -2.996e+00]))"
      ]
     },
     "execution_count": 82,
     "metadata": {},
     "output_type": "execute_result"
    }
   ],
   "source": [
    "optimised_result"
   ]
  },
  {
   "cell_type": "code",
   "execution_count": null,
   "id": "687f0334",
   "metadata": {},
   "outputs": [],
   "source": [
    "            \n",
    "#         for o in self.outcomes:\n",
    "\n",
    "#             for n in range(self.tb.shape[0]):\n",
    "#                 for m in range(self.tb.shape[1]):\n",
    "#                     if n==0 and m==0:\n",
    "#                         self.tb[n, m] = self.tb[0,0]+self.gamma\n",
    "#                     else:\n",
    "#                         self.tb[n, m] = self.tb[n,m]*(1.0 - self.gamma)\n",
    "\n",
    "            \n",
    "#             tb_new=self.tb.copy()\n",
    "            \n",
    "#             for n in range(self.tb.shape[0]):\n",
    "#                 for m in range(self.tb.shape[1]):\n",
    "                        \n",
    "#                     if o:\n",
    "#                         if m>0:\n",
    "#                             tb_new[n,m]=self.tb[n,m-1]*beta.mean(self.a0 + n, self.b0+m)\n",
    "#                         else:\n",
    "#                             tb_new[n,m]=0.0\n",
    "                            \n",
    "#                     else:\n",
    "#                         if n>0:\n",
    "#                             tb_new[n,m]=self.tb[n-1,m]*beta.mean(self.a0 + n, self.b0+m)\n",
    "#                         else:\n",
    "#                             tb_new[n,m]=0.0\n",
    "\n",
    "#             z=0.0                    \n",
    "#             for n in range(self.tb.shape[0]):\n",
    "#                 for m in range(self.tb.shape[1]):\n",
    "#                     z+=tb_new[n,m]\n",
    "\n",
    "#             for n in range(self.tb.shape[0]):\n",
    "#                 for m in range(self.tb.shape[1]):\n",
    "#                     self.tb[n,m]=tb_new[n,m]/z\n",
    "                \n",
    "#             print(o,'\\n', self.tb)"
   ]
  }
 ],
 "metadata": {
  "kernelspec": {
   "display_name": "venv",
   "language": "python",
   "name": "python3"
  },
  "language_info": {
   "codemirror_mode": {
    "name": "ipython",
    "version": 3
   },
   "file_extension": ".py",
   "mimetype": "text/x-python",
   "name": "python",
   "nbconvert_exporter": "python",
   "pygments_lexer": "ipython3",
   "version": "3.9.7"
  },
  "vscode": {
   "interpreter": {
    "hash": "49cd9abd17019f5aa8d2b1a778ef585fbdf448143508b642c8294ec19980315b"
   }
  }
 },
 "nbformat": 4,
 "nbformat_minor": 5
}
