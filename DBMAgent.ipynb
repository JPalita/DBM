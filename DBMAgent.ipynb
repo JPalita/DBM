{
 "cells": [
  {
   "cell_type": "markdown",
   "id": "6dfadf39",
   "metadata": {},
   "source": [
    "# Simulated Agent"
   ]
  },
  {
   "cell_type": "code",
   "execution_count": 2,
   "id": "47f67225",
   "metadata": {},
   "outputs": [],
   "source": [
    "import numpy as np\n",
    "from scipy.optimize import minimize\n",
    "from scipy.stats import binom, beta"
   ]
  },
  {
   "cell_type": "code",
   "execution_count": 3,
   "id": "27c86d0d",
   "metadata": {},
   "outputs": [],
   "source": [
    "class Agent:\n",
    "    def __init__(self, a0, b0, q):\n",
    "        self.a0 = a0\n",
    "        self.b0 = b0\n",
    "        self.q = q\n",
    "        self.p = 0.0\n",
    "        self.pickP()\n",
    "        self.notPickP()\n",
    "        \n",
    "    def pickP(self):#PICK P  FROM BETA DISTRIBUTION\n",
    "        self.p = np.random.beta(self.a0, self.b0)\n",
    "    def notPickP(self):\n",
    "        self.p = 1 - np.random.beta(self.a0, self.b0)\n",
    "            \n",
    "    def draw(self):\n",
    "        if np.random.uniform(0,1) < self.p:\n",
    "            return True\n",
    "        else:\n",
    "            return False\n",
    "        \n",
    "    def turn(self):\n",
    "        if np.random.uniform(0,1) < self.q:\n",
    "            self.pickP()\n",
    "        # else:\n",
    "        #     self.notPickP()\n",
    "        return self.draw()"
   ]
  },
  {
   "cell_type": "code",
   "execution_count": 4,
   "id": "3321b8fd",
   "metadata": {},
   "outputs": [],
   "source": [
    "np.random.seed(0)\n",
    "ag = Agent(0.1,0.5, 0.1)\n",
    "n = 8\n",
    "outcomes = []\n",
    "prob = []\n",
    "for i in range(n):\n",
    "    outcomes.append(ag.turn())\n",
    "np.random.seed(0)"
   ]
  },
  {
   "cell_type": "code",
   "execution_count": 5,
   "id": "ce971893",
   "metadata": {
    "collapsed": false
   },
   "outputs": [
    {
     "data": {
      "text/plain": [
       "[True, True, True, True, True, False, False, False]"
      ]
     },
     "execution_count": 5,
     "metadata": {},
     "output_type": "execute_result"
    }
   ],
   "source": [
    "outcomes"
   ]
  },
  {
   "cell_type": "code",
   "execution_count": 19,
   "id": "7b3fe342",
   "metadata": {},
   "outputs": [],
   "source": [
    "class DBMAgent:\n",
    "    def __init__(self, a0, b0, gamma):\n",
    "        self.a0 = a0\n",
    "        self.b0 = b0\n",
    "        self.gamma = gamma\n",
    "        self.p = 0.0\n",
    "        self.outcomes = outcomes\n",
    "        self.num = len(outcomes)\n",
    "        self.tb = np.zeros((self.num + 1, self.num + 1))\n",
    "        self.tb[0, 0] = 1\n",
    "        \n",
    "\n",
    "    # def mu(self, n, m):\n",
    "    #     self.a0 = self.a0 + n\n",
    "    #     self.b0 = self.b0 + m\n",
    "    #     return self.a0 / (self.a0 + self.b0)\n",
    "        \n",
    "\n",
    "    def update(self, outcomes):\n",
    "        # print(outcomes, '\\n',self.tb)\n",
    "        for o in outcomes:\n",
    "           \n",
    "            tb_new = self.tb.copy()\n",
    "            \n",
    "            for n in range(self.tb.shape[0]):\n",
    "                for m in range(self.tb.shape[1]):\n",
    "                    if n==0 and m==0:\n",
    "                        self.tb[n, m] = self.tb[0,0] + self.gamma\n",
    "                    else:\n",
    "                        self.tb[n, m] = self.tb[n,m] * (1.0 - self.gamma)\n",
    "\n",
    "            for n in range(self.tb.shape[0]):\n",
    "                for m in range(self.tb.shape[1]):\n",
    "                    #updating each lever\n",
    "                    if o: \n",
    "                        # if n > 0:\n",
    "                        #     tb_new[n, m] = self.tb[n-1, m] * beta.mean(self.a0 + n, self.b0 + (m-1))\n",
    "                        if m > 0:\n",
    "                            tb_new[n, m] = self.tb[n, m-1] * beta.mean(self.a0 + n, self.b0 + (m-1))\n",
    "                        else:\n",
    "                            tb_new[n, m] = 0.0\n",
    "                    else:\n",
    "                        # if m > 0:\n",
    "                        #     tb_new[n, m] = self.tb[n, m-1] * self.beta.mean(self.a0 + n, self.b0 +  m)\n",
    "                        if n > 0:\n",
    "                            tb_new[n, m] = self.tb[n-1, m] * (1- beta.mean(self.a0 + (n-1), self.b0 + m) )\n",
    "                        else:\n",
    "                            tb_new[n, m] = 0.0\n",
    "            z = 0.0\n",
    "            for n in range(self.tb.shape[0]):\n",
    "                for m in range(self.tb.shape[1]):\n",
    "                    z += tb_new[n, m] \n",
    "                    \n",
    "            for n in range(self.tb.shape[0]):\n",
    "                for m in range(self.tb.shape[1]):\n",
    "                    self.tb[n, m] = tb_new[n, m] / z    \n",
    "                           \n",
    "            # print(o, z,'\\n', self.tb, '\\n', tb_new[n,m])\n",
    "            \n",
    "#         for o in self.outcomes:\n",
    "\n",
    "#             for n in range(self.tb.shape[0]):\n",
    "#                 for m in range(self.tb.shape[1]):\n",
    "#                     if n==0 and m==0:\n",
    "#                         self.tb[n, m] = self.tb[0,0]+self.gamma\n",
    "#                     else:\n",
    "#                         self.tb[n, m] = self.tb[n,m]*(1.0 - self.gamma)\n",
    "\n",
    "            \n",
    "#             tb_new=self.tb.copy()\n",
    "            \n",
    "#             for n in range(self.tb.shape[0]):\n",
    "#                 for m in range(self.tb.shape[1]):\n",
    "                        \n",
    "#                     if o:\n",
    "#                         if m>0:\n",
    "#                             tb_new[n,m]=self.tb[n,m-1]*beta.mean(self.a0 + n, self.b0+m)\n",
    "#                         else:\n",
    "#                             tb_new[n,m]=0.0\n",
    "                            \n",
    "#                     else:\n",
    "#                         if n>0:\n",
    "#                             tb_new[n,m]=self.tb[n-1,m]*beta.mean(self.a0 + n, self.b0+m)\n",
    "#                         else:\n",
    "#                             tb_new[n,m]=0.0\n",
    "\n",
    "#             z=0.0                    \n",
    "#             for n in range(self.tb.shape[0]):\n",
    "#                 for m in range(self.tb.shape[1]):\n",
    "#                     z+=tb_new[n,m]\n",
    "\n",
    "#             for n in range(self.tb.shape[0]):\n",
    "#                 for m in range(self.tb.shape[1]):\n",
    "#                     self.tb[n,m]=tb_new[n,m]/z\n",
    "                \n",
    "#             print(o,'\\n', self.tb)\n",
    "\n",
    "            \n",
    "agent = DBMAgent(0.1, 0.5, 0.2)\n",
    "agent.update(outcomes)\n",
    "\n",
    "\n"
   ]
  },
  {
   "cell_type": "code",
   "execution_count": 20,
   "id": "6bcc4cf6",
   "metadata": {},
   "outputs": [],
   "source": [
    "class logL:\n",
    "    def __init__(self, data):\n",
    "        self.data = data\n",
    "    def __call__(self, params): # matrix of params\n",
    "        a0,b0,gm = params \n",
    "        mdl = DBMAgent(a0,b0,gm)\n",
    "        mdl.update(self.data)\n",
    "        likelihood = gm * beta.pdf(self.data, a0, b0) + (1 - gm) * beta.pdf(self.data, 1, 1)\n",
    "        loglikelihood = -1 * np.sum(np.log(likelihood))\n",
    "        return loglikelihood\n",
    "    "
   ]
  },
  {
   "cell_type": "code",
   "execution_count": 21,
   "id": "42f7d9ff",
   "metadata": {},
   "outputs": [
    {
     "data": {
      "text/plain": [
       "-inf"
      ]
     },
     "execution_count": 21,
     "metadata": {},
     "output_type": "execute_result"
    }
   ],
   "source": [
    "loglikelihood = logL(outcomes)\n",
    "p = np.array([0.1,0.5,0.2])\n",
    "loglikelihood(p)\n"
   ]
  },
  {
   "cell_type": "code",
   "execution_count": null,
   "id": "5ede7528",
   "metadata": {},
   "outputs": [],
   "source": [
    "optimised_result = minimize(loglikelihood,(1,1,0.2), method='Nelder-Mead')\n",
    "alpha_mle, beta_mle, gamma_mle = optimised_result.x"
   ]
  },
  {
   "cell_type": "code",
   "execution_count": 165,
   "id": "94035bfb",
   "metadata": {},
   "outputs": [
    {
     "name": "stdout",
     "output_type": "stream",
     "text": [
      "optimised alpha: 1.0333333333333332\n",
      "optimised beta: 0.95\n",
      "optimised gamma: 0.20666666666666672\n"
     ]
    }
   ],
   "source": [
    "print(f'optimised alpha: {alpha_mle}\\noptimised beta: {beta_mle}\\noptimised gamma: {gamma_mle}')"
   ]
  },
  {
   "cell_type": "code",
   "execution_count": null,
   "id": "32c1ad53",
   "metadata": {
    "pycharm": {
     "is_executing": true
    }
   },
   "outputs": [],
   "source": []
  },
  {
   "cell_type": "code",
   "execution_count": null,
   "id": "687f0334",
   "metadata": {},
   "outputs": [],
   "source": []
  }
 ],
 "metadata": {
  "kernelspec": {
   "display_name": "venv",
   "language": "python",
   "name": "python3"
  },
  "language_info": {
   "codemirror_mode": {
    "name": "ipython",
    "version": 3
   },
   "file_extension": ".py",
   "mimetype": "text/x-python",
   "name": "python",
   "nbconvert_exporter": "python",
   "pygments_lexer": "ipython3",
   "version": "3.9.7"
  },
  "vscode": {
   "interpreter": {
    "hash": "49cd9abd17019f5aa8d2b1a778ef585fbdf448143508b642c8294ec19980315b"
   }
  }
 },
 "nbformat": 4,
 "nbformat_minor": 5
}
